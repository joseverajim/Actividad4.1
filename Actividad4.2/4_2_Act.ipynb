{
  "cells": [
    {
      "cell_type": "markdown",
      "metadata": {
        "id": "view-in-github",
        "colab_type": "text"
      },
      "source": [
        "<a href=\"https://colab.research.google.com/github/joseverajim/Actividad4.1/blob/main/Actividad4.2/4_2_Act.ipynb\" target=\"_parent\"><img src=\"https://colab.research.google.com/assets/colab-badge.svg\" alt=\"Open In Colab\"/></a>"
      ]
    },
    {
      "cell_type": "code",
      "execution_count": 38,
      "metadata": {
        "id": "UUYDGugWq8As"
      },
      "outputs": [],
      "source": [
        "#Importamos las librerias pandas, numpy y matplotlib respectivamente\n",
        "import pandas as pd\n",
        "import numpy as np\n",
        "import matplotlib.pyplot as plt"
      ]
    },
    {
      "cell_type": "code",
      "execution_count": null,
      "metadata": {
        "id": "HBbMv05wrkC8"
      },
      "outputs": [],
      "source": [
        "#Carga desde un archivo .csv sin indice\n",
        "data = pd.read_csv('Tokyo_Limpia (1).csv')"
      ]
    },
    {
      "cell_type": "code",
      "execution_count": null,
      "metadata": {
        "id": "YNNsijHArn0T",
        "colab": {
          "base_uri": "https://localhost:8080/"
        },
        "outputId": "427db43b-402c-42f3-ab8f-3fcd746d697e"
      },
      "outputs": [
        {
          "output_type": "stream",
          "name": "stdout",
          "text": [
            "<class 'pandas.core.frame.DataFrame'>\n",
            "RangeIndex: 22783 entries, 0 to 22782\n",
            "Data columns (total 50 columns):\n",
            " #   Column                                        Non-Null Count  Dtype  \n",
            "---  ------                                        --------------  -----  \n",
            " 0   id                                            22783 non-null  int64  \n",
            " 1   name                                          22783 non-null  object \n",
            " 2   description                                   22783 non-null  object \n",
            " 3   neighbourhood_cleansed                        22783 non-null  object \n",
            " 4   latitude                                      22783 non-null  float64\n",
            " 5   longitude                                     22783 non-null  float64\n",
            " 6   property_type                                 22783 non-null  object \n",
            " 7   room_type                                     22783 non-null  object \n",
            " 8   accommodates                                  22783 non-null  int64  \n",
            " 9   bathrooms                                     22783 non-null  float64\n",
            " 10  bedrooms                                      22783 non-null  float64\n",
            " 11  beds                                          22783 non-null  float64\n",
            " 12  amenities                                     22783 non-null  object \n",
            " 13  price                                         22783 non-null  float64\n",
            " 14  minimum_nights                                22783 non-null  int64  \n",
            " 15  maximum_nights                                22783 non-null  int64  \n",
            " 16  availability_30                               22783 non-null  int64  \n",
            " 17  availability_60                               22783 non-null  int64  \n",
            " 18  availability_90                               22783 non-null  int64  \n",
            " 19  availability_365                              22783 non-null  int64  \n",
            " 20  number_of_reviews                             22783 non-null  int64  \n",
            " 21  number_of_reviews_ltm                         22783 non-null  int64  \n",
            " 22  number_of_reviews_l30d                        22783 non-null  int64  \n",
            " 23  first_review                                  22783 non-null  object \n",
            " 24  last_review                                   22783 non-null  object \n",
            " 25  review_scores_rating                          22783 non-null  float64\n",
            " 26  review_scores_accuracy                        22783 non-null  float64\n",
            " 27  review_scores_cleanliness                     22783 non-null  float64\n",
            " 28  review_scores_checkin                         22783 non-null  float64\n",
            " 29  review_scores_communication                   22783 non-null  float64\n",
            " 30  review_scores_location                        22783 non-null  float64\n",
            " 31  review_scores_value                           22783 non-null  float64\n",
            " 32  reviews_per_month                             22783 non-null  float64\n",
            " 33  host_id                                       22783 non-null  int64  \n",
            " 34  host_name                                     22783 non-null  object \n",
            " 35  host_since                                    22783 non-null  object \n",
            " 36  host_response_time                            22783 non-null  object \n",
            " 37  host_response_rate                            22783 non-null  float64\n",
            " 38  host_acceptance_rate                          22783 non-null  float64\n",
            " 39  host_is_superhost                             22783 non-null  object \n",
            " 40  host_listings_count                           22783 non-null  int64  \n",
            " 41  host_total_listings_count                     22783 non-null  int64  \n",
            " 42  host_identity_verified                        22783 non-null  object \n",
            " 43  instant_bookable                              22783 non-null  object \n",
            " 44  calculated_host_listings_count                22783 non-null  int64  \n",
            " 45  calculated_host_listings_count_entire_homes   22783 non-null  int64  \n",
            " 46  calculated_host_listings_count_private_rooms  22783 non-null  int64  \n",
            " 47  calculated_host_listings_count_shared_rooms   22783 non-null  int64  \n",
            " 48  estimated_occupancy_l365d                     22783 non-null  int64  \n",
            " 49  estimated_revenue_l365d                       22783 non-null  float64\n",
            "dtypes: float64(17), int64(19), object(14)\n",
            "memory usage: 8.7+ MB\n"
          ]
        }
      ],
      "source": [
        "#Verificamos información del DataFrame\n",
        "data.info()"
      ]
    },
    {
      "cell_type": "code",
      "execution_count": 55,
      "metadata": {
        "id": "kAA40FSSr_um",
        "colab": {
          "base_uri": "https://localhost:8080/"
        },
        "outputId": "c30c08b1-9647-4f06-8082-4680a7190b4d"
      },
      "outputs": [
        {
          "output_type": "stream",
          "name": "stdout",
          "text": [
            "Nulos iniciales:\n",
            " id                                              0\n",
            "name                                            0\n",
            "description                                     0\n",
            "neighbourhood_cleansed                          0\n",
            "latitude                                        0\n",
            "longitude                                       0\n",
            "property_type                                   0\n",
            "room_type                                       0\n",
            "accommodates                                    0\n",
            "bathrooms                                       0\n",
            "bedrooms                                        0\n",
            "beds                                            0\n",
            "amenities                                       0\n",
            "price                                           0\n",
            "minimum_nights                                  0\n",
            "maximum_nights                                  0\n",
            "availability_30                                 0\n",
            "availability_60                                 0\n",
            "availability_90                                 0\n",
            "availability_365                                0\n",
            "number_of_reviews                               0\n",
            "number_of_reviews_ltm                           0\n",
            "number_of_reviews_l30d                          0\n",
            "first_review                                    0\n",
            "last_review                                     0\n",
            "review_scores_rating                            0\n",
            "review_scores_accuracy                          0\n",
            "review_scores_cleanliness                       0\n",
            "review_scores_checkin                           0\n",
            "review_scores_communication                     0\n",
            "review_scores_location                          0\n",
            "review_scores_value                             0\n",
            "reviews_per_month                               0\n",
            "host_id                                         0\n",
            "host_name                                       0\n",
            "host_since                                      0\n",
            "host_response_time                              0\n",
            "host_response_rate                              0\n",
            "host_acceptance_rate                            0\n",
            "host_is_superhost                               0\n",
            "host_listings_count                             0\n",
            "host_total_listings_count                       0\n",
            "host_identity_verified                          0\n",
            "instant_bookable                                0\n",
            "calculated_host_listings_count                  0\n",
            "calculated_host_listings_count_entire_homes     0\n",
            "calculated_host_listings_count_private_rooms    0\n",
            "calculated_host_listings_count_shared_rooms     0\n",
            "estimated_occupancy_l365d                       0\n",
            "estimated_revenue_l365d                         0\n",
            "dtype: int64\n"
          ]
        }
      ],
      "source": [
        "#Corroboramos valores nulos\n",
        "print(\"Nulos iniciales:\\n\", data.isnull().sum())"
      ]
    },
    {
      "cell_type": "markdown",
      "metadata": {
        "id": "gr44NgjSsIej"
      },
      "source": [
        "**PROCEDIMIENTO PARA ELIMINAR VALORES NULOS EN DATAFRAME**"
      ]
    },
    {
      "cell_type": "code",
      "execution_count": 56,
      "metadata": {
        "id": "OD6RsDDhsJYK",
        "colab": {
          "base_uri": "https://localhost:8080/"
        },
        "outputId": "54e0d462-e79f-4c00-d9b4-4ba6543e5630"
      },
      "outputs": [
        {
          "output_type": "stream",
          "name": "stdout",
          "text": [
            "\n",
            "Nulos después de bfill:\n",
            " id                                              0\n",
            "name                                            0\n",
            "description                                     0\n",
            "neighbourhood_cleansed                          0\n",
            "latitude                                        0\n",
            "longitude                                       0\n",
            "property_type                                   0\n",
            "room_type                                       0\n",
            "accommodates                                    0\n",
            "bathrooms                                       0\n",
            "bedrooms                                        0\n",
            "beds                                            0\n",
            "amenities                                       0\n",
            "price                                           0\n",
            "minimum_nights                                  0\n",
            "maximum_nights                                  0\n",
            "availability_30                                 0\n",
            "availability_60                                 0\n",
            "availability_90                                 0\n",
            "availability_365                                0\n",
            "number_of_reviews                               0\n",
            "number_of_reviews_ltm                           0\n",
            "number_of_reviews_l30d                          0\n",
            "first_review                                    0\n",
            "last_review                                     0\n",
            "review_scores_rating                            0\n",
            "review_scores_accuracy                          0\n",
            "review_scores_cleanliness                       0\n",
            "review_scores_checkin                           0\n",
            "review_scores_communication                     0\n",
            "review_scores_location                          0\n",
            "review_scores_value                             0\n",
            "reviews_per_month                               0\n",
            "host_id                                         0\n",
            "host_name                                       0\n",
            "host_since                                      0\n",
            "host_response_time                              0\n",
            "host_response_rate                              0\n",
            "host_acceptance_rate                            0\n",
            "host_is_superhost                               0\n",
            "host_listings_count                             0\n",
            "host_total_listings_count                       0\n",
            "host_identity_verified                          0\n",
            "instant_bookable                                0\n",
            "calculated_host_listings_count                  0\n",
            "calculated_host_listings_count_entire_homes     0\n",
            "calculated_host_listings_count_private_rooms    0\n",
            "calculated_host_listings_count_shared_rooms     0\n",
            "estimated_occupancy_l365d                       0\n",
            "estimated_revenue_l365d                         0\n",
            "dtype: int64\n"
          ]
        },
        {
          "output_type": "stream",
          "name": "stderr",
          "text": [
            "/tmp/ipython-input-2031588718.py:2: FutureWarning: DataFrame.fillna with 'method' is deprecated and will raise in a future version. Use obj.ffill() or obj.bfill() instead.\n",
            "  data1 = data.fillna(method=\"bfill\")\n"
          ]
        }
      ],
      "source": [
        "# Reemplazo valores nulos con backfill\n",
        "data1 = data.fillna(method=\"bfill\")\n",
        "print(\"\\nNulos después de bfill:\\n\", data1.isnull().sum())"
      ]
    },
    {
      "cell_type": "code",
      "execution_count": 57,
      "metadata": {
        "id": "sDfJq961sN5o"
      },
      "outputs": [],
      "source": [
        "# Divido el DataFrame en cuantitativas (cols 1 a 22) y cualitativa (col 0)\n",
        "cuantitativas = data1.iloc[:, 1:23]\n",
        "cualitativas = data1.iloc[:, [0]]"
      ]
    },
    {
      "cell_type": "code",
      "source": [
        "# Intento hacer boxplot de la columna original indicada (si no existe, tomo la primera numérica)\n",
        "columna_box = 'subtotal_ventas_alimentos_bebidas'\n",
        "if columna_box not in cuantitativas.columns:\n",
        "    num_cols = [c for c in cuantitativas.columns if pd.api.types.is_numeric_dtype(cuantitativas[c])]\n",
        "    columna_box = num_cols[0] if num_cols else None\n",
        "    plt.figure(figsize=(15, 8))\n",
        "if columna_box is not None:\n",
        "    cuantitativas[columna_box].plot(kind='box', vert=False)\n",
        "    plt.title(\"Valores Atípicos del DataFrame\")\n",
        "    plt.xlabel(columna_box)\n",
        "plt.show()"
      ],
      "metadata": {
        "colab": {
          "base_uri": "https://localhost:8080/",
          "height": 428
        },
        "id": "yqR-fleWdiik",
        "outputId": "c03d3050-2710-4e91-9521-6c54be3cd344"
      },
      "execution_count": 59,
      "outputs": [
        {
          "output_type": "display_data",
          "data": {
            "text/plain": [
              "<Figure size 1500x800 with 1 Axes>"
            ],
            "image/png": "[encoded data removed]"
          },
          "metadata": {}
        }
      ]
    },
    {
      "cell_type": "code",
      "execution_count": 60,
      "metadata": {
        "id": "-_TULKm0tWBn"
      },
      "outputs": [],
      "source": [
        "# ----------------- Método de Desviación Estándar (3σ) -----------------\n",
        "y = cuantitativas.copy()\n",
        "lim_sup = y.mean(numeric_only=True) + 3*y.std(numeric_only=True)\n",
        "lim_inf = y.mean(numeric_only=True) - 3*y.std(numeric_only=True)\n",
        "\n",
        "# Convierto en nulos los valores fuera de los límites\n",
        "data3 = y.copy()\n",
        "for c in data3.columns:\n",
        "    if pd.api.types.is_numeric_dtype(data3[c]):\n",
        "        data3[c] = data3[c].where((data3[c] <= lim_sup[c]) & (data3[c] >= lim_inf[c]))\n",
        "\n",
        "# === Conteo de outliers detectados por 3σ (antes de imputar) ===\n",
        "# (cuántos NaN nuevos se generaron vs y)\n",
        "imputados_3s_por_col = (data3.isna().sum() - y.isna().sum()).clip(lower=0)\n",
        "total_imputados_3s = int(imputados_3s_por_col.sum())\n",
        "\n",
        "# Imputo nulos con la media redondeada a 1 decimal\n",
        "data_clean_std = data3.fillna(round(data3.mean(numeric_only=True), 1))\n",
        "\n",
        "# Uno el resultado con las cualitativas\n",
        "Datos_limpios_STD = pd.concat([cualitativas, data_clean_std], axis=1)"
      ]
    },
    {
      "cell_type": "code",
      "execution_count": 61,
      "metadata": {
        "id": "_Qg9ufYftfR-"
      },
      "outputs": [],
      "source": [
        "# ----------------- Método de Rango Intercuartílico (IQR) -----------------\n",
        "Q1 = y.quantile(0.25, numeric_only=True)\n",
        "Q3 = y.quantile(0.75, numeric_only=True)\n",
        "IQR = Q3 - Q1\n",
        "lim_sup_iqr = Q3 + 1.5*IQR\n",
        "lim_inf_iqr = Q1 - 1.5*IQR\n",
        "\n",
        "# Convierto en nulos los valores fuera del rango IQR\n",
        "data3_iqr = y.copy()\n",
        "for c in data3_iqr.columns:\n",
        "    if pd.api.types.is_numeric_dtype(data3_iqr[c]):\n",
        "        data3_iqr[c] = data3_iqr[c].where((data3_iqr[c] <= lim_sup_iqr[c]) & (data3_iqr[c] >= lim_inf_iqr[c]))\n",
        "\n",
        "# === Conteo de outliers detectados por IQR (antes de imputar) ===\n",
        "imputados_iqr_por_col = (data3_iqr.isna().sum() - y.isna().sum()).clip(lower=0)\n",
        "total_imputados_IQR = int(imputados_iqr_por_col.sum())\n",
        "\n",
        "# Imputo nulos con la media redondeada a 1 decimal\n",
        "data_clean_iqr = data3_iqr.fillna(round(data3_iqr.mean(numeric_only=True), 1))\n",
        "\n",
        "# Uno el resultado con las cualitativas\n",
        "Datos_limpios_IQR = pd.concat([cualitativas, data_clean_iqr], axis=1)"
      ]
    },
    {
      "cell_type": "code",
      "execution_count": 62,
      "metadata": {
        "id": "cc9peCMJuJ4x"
      },
      "outputs": [],
      "source": [
        "# ----------------- Exporto ambos resultados -----------------\n",
        "Datos_limpios_STD.to_csv(\"Datos_limpios_STD.csv\", index=False)\n",
        "Datos_limpios_IQR.to_csv(\"Datos_limpios_IQR.csv\", index=False)"
      ]
    },
    {
      "cell_type": "code",
      "execution_count": 64,
      "metadata": {
        "id": "KAIOzqhBuUCd"
      },
      "outputs": [],
      "source": [
        "# ----------------- Resumen rápido para comparar -----------------\n",
        "nfilas, ncols_num = y.shape[0], len([c for c in y.columns if pd.api.types.is_numeric_dtype(y[c])])\n",
        "pct_imp_3s  = (total_imputados_3s  / (nfilas * max(1, ncols_num))) * 100\n",
        "pct_imp_iqr = (total_imputados_IQR / (nfilas * max(1, ncols_num))) * 100"
      ]
    },
    {
      "cell_type": "code",
      "execution_count": 65,
      "metadata": {
        "id": "2MGeJwhvuZA8",
        "outputId": "1825d7b8-869a-46ef-ddc2-a48e847cc4ab",
        "colab": {
          "base_uri": "https://localhost:8080/"
        }
      },
      "outputs": [
        {
          "output_type": "stream",
          "name": "stdout",
          "text": [
            "\n",
            "================= RESUMEN COMPARATIVO =================\n",
            "Outliers detectados (3σ):  4219  | % sobre celdas numéricas: 1.157%\n",
            "Outliers detectados (IQR): 21049 | % sobre celdas numéricas: 5.774%\n",
            "Archivos generados: Datos_limpios_STD.csv  y  Datos_limpios_IQR.csv\n",
            "=======================================================\n",
            "\n"
          ]
        }
      ],
      "source": [
        "print(\"\\n================= RESUMEN COMPARATIVO =================\")\n",
        "print(f\"Outliers detectados (3σ):  {total_imputados_3s}  | % sobre celdas numéricas: {pct_imp_3s:.3f}%\")\n",
        "print(f\"Outliers detectados (IQR): {total_imputados_IQR} | % sobre celdas numéricas: {pct_imp_iqr:.3f}%\")\n",
        "print(\"Archivos generados: Datos_limpios_STD.csv  y  Datos_limpios_IQR.csv\")\n",
        "print(\"=======================================================\\n\")"
      ]
    },
    {
      "cell_type": "code",
      "source": [
        "# 1) Verificar denominador del % (filas x columnas numéricas usadas)\n",
        "nfilas = cuantitativas.shape[0]\n",
        "ncols_num = sum(pd.api.types.is_numeric_dtype(cuantitativas[c]) for c in cuantitativas.columns)\n",
        "print(nfilas, ncols_num, nfilas*ncols_num)\n",
        "\n",
        "# 2) Top columnas con más outliers por método\n",
        "print(\"Top 10 3σ:\\n\", imputados_3s_por_col.sort_values(ascending=False).head(10))\n",
        "print(\"\\nTop 10 IQR:\\n\", imputados_iqr_por_col.sort_values(ascending=False).head(10))\n",
        "\n",
        "# 3) % por columna (te revela dónde pega más cada método)\n",
        "resumen = pd.DataFrame({\n",
        "    \"3σ\": imputados_3s_por_col,\n",
        "    \"IQR\": imputados_iqr_por_col\n",
        "})\n",
        "resumen[\"%3σ\"] = (resumen[\"3σ\"]/nfilas)*100\n",
        "resumen[\"%IQR\"] = (resumen[\"IQR\"]/nfilas)*100\n",
        "print(resumen.sort_values(\"%IQR\", ascending=False).head(10))\n",
        "\n",
        "# 4) Filas afectadas (al menos 1 outlier en la fila)\n",
        "filas_afectadas_3s  = (data3.isna().any(axis=1)).sum()\n",
        "filas_afectadas_IQR = (data3_iqr.isna().any(axis=1)).sum()\n",
        "print(\"Filas afectadas 3σ:\", filas_afectadas_3s)\n",
        "print(\"Filas afectadas IQR:\", filas_afectadas_IQR)\n"
      ],
      "metadata": {
        "colab": {
          "base_uri": "https://localhost:8080/"
        },
        "id": "yYtv6iuneSpx",
        "outputId": "46936b50-9d5b-4c70-bf06-a9febbc1e22e"
      },
      "execution_count": 67,
      "outputs": [
        {
          "output_type": "stream",
          "name": "stdout",
          "text": [
            "22783 16 364528\n",
            "Top 10 3σ:\n",
            " latitude                  703\n",
            "availability_30           645\n",
            "accommodates              474\n",
            "bathrooms                 447\n",
            "number_of_reviews         379\n",
            "beds                      318\n",
            "longitude                 282\n",
            "bedrooms                  273\n",
            "number_of_reviews_l30d    250\n",
            "number_of_reviews_ltm     174\n",
            "dtype: int64\n",
            "\n",
            "Top 10 IQR:\n",
            " bathrooms                4193\n",
            "minimum_nights           3495\n",
            "maximum_nights           2407\n",
            "latitude                 2039\n",
            "number_of_reviews        1997\n",
            "price                    1669\n",
            "availability_30          1182\n",
            "bedrooms                  996\n",
            "beds                      859\n",
            "number_of_reviews_ltm     712\n",
            "dtype: int64\n",
            "                        3σ   IQR       %3σ       %IQR\n",
            "bathrooms              447  4193  1.961989  18.404073\n",
            "minimum_nights          22  3495  0.096563  15.340385\n",
            "maximum_nights           1  2407  0.004389  10.564895\n",
            "latitude               703  2039  3.085634   8.949655\n",
            "number_of_reviews      379  1997  1.663521   8.765307\n",
            "price                  149  1669  0.653996   7.325638\n",
            "availability_30        645  1182  2.831058   5.188079\n",
            "bedrooms               273   996  1.198262   4.371681\n",
            "beds                   318   859  1.395778   3.770355\n",
            "number_of_reviews_ltm  174   712  0.763727   3.125137\n",
            "Filas afectadas 3σ: 3093\n",
            "Filas afectadas IQR: 12729\n"
          ]
        }
      ]
    },
    {
      "cell_type": "code",
      "execution_count": 52,
      "metadata": {
        "id": "lxlWhbbwu6xQ"
      },
      "outputs": [],
      "source": [
        "#Elegí el criterio 3σ porque en esta base equilibra mejor la detección de valores extremos con la conservación de información. En mi comparación directa, 3σ marcó 4,219 celdas (≈1.16%) frente a 21,049 (≈5.77%) del IQR=1.5, afectando 3,093 filas vs 12,729 con IQR. El IQR resultó excesivamente agresivo en variables discretas y sesgadas con IQR muy estrecho (p. ej., bathrooms, minimum_nights, maximum_nights), donde valores plausibles como 3–4 baños o estancias largas fueron etiquetados como atípicos (ej.: bathrooms ≈ 18% de filas señaladas por IQR). En cambio, 3σ se ajusta mejor a variables aproximadamente normales como latitud/longitud, reduce la distorsión de medias y desviaciones estándar y deja un conjunto más estable para análisis posteriores (p. ej., regresión). Por estas razones —menor proporción de imputación, menor distorsión estadística y mejor alineación con la distribución de las variables— justifico usar 3σ como método principal para el tratamiento de outliers en este dataset."
      ]
    }
  ],
  "metadata": {
    "colab": {
      "provenance": [],
      "include_colab_link": true
    },
    "kernelspec": {
      "display_name": "Python 3",
      "name": "python3"
    },
    "language_info": {
      "codemirror_mode": {
        "name": "ipython",
        "version": 3
      },
      "file_extension": ".py",
      "mimetype": "text/x-python",
      "name": "python",
      "nbconvert_exporter": "python",
      "pygments_lexer": "ipython3",
      "version": "3.13.1"
    }
  },
  "nbformat": 4,
  "nbformat_minor": 0
}