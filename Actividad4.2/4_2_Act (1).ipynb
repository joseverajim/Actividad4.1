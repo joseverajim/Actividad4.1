{
  "cells": [
    {
      "cell_type": "markdown",
      "metadata": {
        "id": "view-in-github"
      },
      "source": [
        "<a href=\"https://colab.research.google.com/github/freddy-7/TI3002C/blob/main/4_Valores_at%C3%ADpicos_DataFrame.ipynb\" target=\"_parent\"><img src=\"https://colab.research.google.com/assets/colab-badge.svg\" alt=\"Open In Colab\"/></a>"
      ]
    },
    {
      "cell_type": "code",
      "execution_count": 2,
      "metadata": {
        "id": "UUYDGugWq8As"
      },
      "outputs": [],
      "source": [
        "#Importamos las librerias pandas, numpy y matplotlib respectivamente\n",
        "import pandas as pd\n",
        "import numpy as np\n",
        "import matplotlib.pyplot as plt"
      ]
    },
    {
      "cell_type": "code",
      "execution_count": 3,
      "metadata": {
        "id": "HBbMv05wrkC8"
      },
      "outputs": [],
      "source": [
        "#Carga desde un archivo .csv sin indice\n",
        "data = pd.read_csv('Tokyo_Limpia (1).csv')"
      ]
    },
    {
      "cell_type": "code",
      "execution_count": 4,
      "metadata": {
        "id": "YNNsijHArn0T",
        "colab": {
          "base_uri": "https://localhost:8080/"
        },
        "outputId": "e5c87c64-6f49-4cec-ddc4-00787b7691fc"
      },
      "outputs": [
        {
          "output_type": "stream",
          "name": "stdout",
          "text": [
            "<class 'pandas.core.frame.DataFrame'>\n",
            "RangeIndex: 22783 entries, 0 to 22782\n",
            "Data columns (total 50 columns):\n",
            " #   Column                                        Non-Null Count  Dtype  \n",
            "---  ------                                        --------------  -----  \n",
            " 0   id                                            22783 non-null  int64  \n",
            " 1   name                                          22783 non-null  object \n",
            " 2   description                                   22783 non-null  object \n",
            " 3   neighbourhood_cleansed                        22783 non-null  object \n",
            " 4   latitude                                      22783 non-null  float64\n",
            " 5   longitude                                     22783 non-null  float64\n",
            " 6   property_type                                 22783 non-null  object \n",
            " 7   room_type                                     22783 non-null  object \n",
            " 8   accommodates                                  22783 non-null  int64  \n",
            " 9   bathrooms                                     22783 non-null  float64\n",
            " 10  bedrooms                                      22783 non-null  float64\n",
            " 11  beds                                          22783 non-null  float64\n",
            " 12  amenities                                     22783 non-null  object \n",
            " 13  price                                         22783 non-null  float64\n",
            " 14  minimum_nights                                22783 non-null  int64  \n",
            " 15  maximum_nights                                22783 non-null  int64  \n",
            " 16  availability_30                               22783 non-null  int64  \n",
            " 17  availability_60                               22783 non-null  int64  \n",
            " 18  availability_90                               22783 non-null  int64  \n",
            " 19  availability_365                              22783 non-null  int64  \n",
            " 20  number_of_reviews                             22783 non-null  int64  \n",
            " 21  number_of_reviews_ltm                         22783 non-null  int64  \n",
            " 22  number_of_reviews_l30d                        22783 non-null  int64  \n",
            " 23  first_review                                  22783 non-null  object \n",
            " 24  last_review                                   22783 non-null  object \n",
            " 25  review_scores_rating                          22783 non-null  float64\n",
            " 26  review_scores_accuracy                        22783 non-null  float64\n",
            " 27  review_scores_cleanliness                     22783 non-null  float64\n",
            " 28  review_scores_checkin                         22783 non-null  float64\n",
            " 29  review_scores_communication                   22783 non-null  float64\n",
            " 30  review_scores_location                        22783 non-null  float64\n",
            " 31  review_scores_value                           22783 non-null  float64\n",
            " 32  reviews_per_month                             22783 non-null  float64\n",
            " 33  host_id                                       22783 non-null  int64  \n",
            " 34  host_name                                     22783 non-null  object \n",
            " 35  host_since                                    22783 non-null  object \n",
            " 36  host_response_time                            22783 non-null  object \n",
            " 37  host_response_rate                            22783 non-null  float64\n",
            " 38  host_acceptance_rate                          22783 non-null  float64\n",
            " 39  host_is_superhost                             22783 non-null  object \n",
            " 40  host_listings_count                           22783 non-null  int64  \n",
            " 41  host_total_listings_count                     22783 non-null  int64  \n",
            " 42  host_identity_verified                        22783 non-null  object \n",
            " 43  instant_bookable                              22783 non-null  object \n",
            " 44  calculated_host_listings_count                22783 non-null  int64  \n",
            " 45  calculated_host_listings_count_entire_homes   22783 non-null  int64  \n",
            " 46  calculated_host_listings_count_private_rooms  22783 non-null  int64  \n",
            " 47  calculated_host_listings_count_shared_rooms   22783 non-null  int64  \n",
            " 48  estimated_occupancy_l365d                     22783 non-null  int64  \n",
            " 49  estimated_revenue_l365d                       22783 non-null  float64\n",
            "dtypes: float64(17), int64(19), object(14)\n",
            "memory usage: 8.7+ MB\n"
          ]
        }
      ],
      "source": [
        "#Verificamos información del DataFrame\n",
        "data.info()"
      ]
    },
    {
      "cell_type": "code",
      "execution_count": 5,
      "metadata": {
        "id": "kAA40FSSr_um",
        "colab": {
          "base_uri": "https://localhost:8080/"
        },
        "outputId": "128023d8-c1bc-4958-ca99-99c4138811a6"
      },
      "outputs": [
        {
          "output_type": "stream",
          "name": "stdout",
          "text": [
            "Nulos iniciales:\n",
            " id                                              0\n",
            "name                                            0\n",
            "description                                     0\n",
            "neighbourhood_cleansed                          0\n",
            "latitude                                        0\n",
            "longitude                                       0\n",
            "property_type                                   0\n",
            "room_type                                       0\n",
            "accommodates                                    0\n",
            "bathrooms                                       0\n",
            "bedrooms                                        0\n",
            "beds                                            0\n",
            "amenities                                       0\n",
            "price                                           0\n",
            "minimum_nights                                  0\n",
            "maximum_nights                                  0\n",
            "availability_30                                 0\n",
            "availability_60                                 0\n",
            "availability_90                                 0\n",
            "availability_365                                0\n",
            "number_of_reviews                               0\n",
            "number_of_reviews_ltm                           0\n",
            "number_of_reviews_l30d                          0\n",
            "first_review                                    0\n",
            "last_review                                     0\n",
            "review_scores_rating                            0\n",
            "review_scores_accuracy                          0\n",
            "review_scores_cleanliness                       0\n",
            "review_scores_checkin                           0\n",
            "review_scores_communication                     0\n",
            "review_scores_location                          0\n",
            "review_scores_value                             0\n",
            "reviews_per_month                               0\n",
            "host_id                                         0\n",
            "host_name                                       0\n",
            "host_since                                      0\n",
            "host_response_time                              0\n",
            "host_response_rate                              0\n",
            "host_acceptance_rate                            0\n",
            "host_is_superhost                               0\n",
            "host_listings_count                             0\n",
            "host_total_listings_count                       0\n",
            "host_identity_verified                          0\n",
            "instant_bookable                                0\n",
            "calculated_host_listings_count                  0\n",
            "calculated_host_listings_count_entire_homes     0\n",
            "calculated_host_listings_count_private_rooms    0\n",
            "calculated_host_listings_count_shared_rooms     0\n",
            "estimated_occupancy_l365d                       0\n",
            "estimated_revenue_l365d                         0\n",
            "dtype: int64\n"
          ]
        }
      ],
      "source": [
        "#Corroboramos valores nulos\n",
        "print(\"Nulos iniciales:\\n\", data.isnull().sum())"
      ]
    },
    {
      "cell_type": "markdown",
      "metadata": {
        "id": "gr44NgjSsIej"
      },
      "source": [
        "**PROCEDIMIENTO PARA ELIMINAR VALORES NULOS EN DATAFRAME**"
      ]
    },
    {
      "cell_type": "code",
      "execution_count": 6,
      "metadata": {
        "id": "OD6RsDDhsJYK",
        "colab": {
          "base_uri": "https://localhost:8080/"
        },
        "outputId": "bf1bfa53-026e-4a04-cfac-e8e7e80c1808"
      },
      "outputs": [
        {
          "output_type": "stream",
          "name": "stdout",
          "text": [
            "\n",
            "Nulos después de bfill:\n",
            " id                                              0\n",
            "name                                            0\n",
            "description                                     0\n",
            "neighbourhood_cleansed                          0\n",
            "latitude                                        0\n",
            "longitude                                       0\n",
            "property_type                                   0\n",
            "room_type                                       0\n",
            "accommodates                                    0\n",
            "bathrooms                                       0\n",
            "bedrooms                                        0\n",
            "beds                                            0\n",
            "amenities                                       0\n",
            "price                                           0\n",
            "minimum_nights                                  0\n",
            "maximum_nights                                  0\n",
            "availability_30                                 0\n",
            "availability_60                                 0\n",
            "availability_90                                 0\n",
            "availability_365                                0\n",
            "number_of_reviews                               0\n",
            "number_of_reviews_ltm                           0\n",
            "number_of_reviews_l30d                          0\n",
            "first_review                                    0\n",
            "last_review                                     0\n",
            "review_scores_rating                            0\n",
            "review_scores_accuracy                          0\n",
            "review_scores_cleanliness                       0\n",
            "review_scores_checkin                           0\n",
            "review_scores_communication                     0\n",
            "review_scores_location                          0\n",
            "review_scores_value                             0\n",
            "reviews_per_month                               0\n",
            "host_id                                         0\n",
            "host_name                                       0\n",
            "host_since                                      0\n",
            "host_response_time                              0\n",
            "host_response_rate                              0\n",
            "host_acceptance_rate                            0\n",
            "host_is_superhost                               0\n",
            "host_listings_count                             0\n",
            "host_total_listings_count                       0\n",
            "host_identity_verified                          0\n",
            "instant_bookable                                0\n",
            "calculated_host_listings_count                  0\n",
            "calculated_host_listings_count_entire_homes     0\n",
            "calculated_host_listings_count_private_rooms    0\n",
            "calculated_host_listings_count_shared_rooms     0\n",
            "estimated_occupancy_l365d                       0\n",
            "estimated_revenue_l365d                         0\n",
            "dtype: int64\n"
          ]
        },
        {
          "output_type": "stream",
          "name": "stderr",
          "text": [
            "/tmp/ipython-input-2031588718.py:2: FutureWarning: DataFrame.fillna with 'method' is deprecated and will raise in a future version. Use obj.ffill() or obj.bfill() instead.\n",
            "  data1 = data.fillna(method=\"bfill\")\n"
          ]
        }
      ],
      "source": [
        "# Reemplazo valores nulos con backfill\n",
        "data1 = data.fillna(method=\"bfill\")\n",
        "print(\"\\nNulos después de bfill:\\n\", data1.isnull().sum())"
      ]
    },
    {
      "cell_type": "code",
      "execution_count": 9,
      "metadata": {
        "id": "sDfJq961sN5o"
      },
      "outputs": [],
      "source": [
        "# Divido el DataFrame en cuantitativas (cols 1 a 22) y cualitativa (col 0)\n",
        "cuantitativas = data1.select_dtypes(include=\"number\")\n",
        "\n",
        "cualitativas = data1.select_dtypes(exclude=\"number\")\n"
      ]
    },
    {
      "cell_type": "code",
      "source": [
        "import matplotlib.pyplot as plt\n",
        "from ipywidgets import Dropdown, Checkbox, interact\n",
        "\n",
        "# --- Selección de numéricas excluyendo ids y derivados ---\n",
        "excluir = [\n",
        "    \"id\", \"host_id\",\n",
        "    \"calculated_host_listings_count\",\n",
        "    \"calculated_host_listings_count_entire_homes\",\n",
        "    \"calculated_host_listings_count_private_rooms\",\n",
        "    \"calculated_host_listings_count_shared_rooms\"\n",
        "]\n",
        "\n",
        "cuantitativas = data1.select_dtypes(include=\"number\").drop(columns=excluir, errors=\"ignore\")\n",
        "cualitativas = data1.drop(columns=cuantitativas.columns)\n",
        "\n",
        "# Dropdown de columnas\n",
        "col_selector = Dropdown(options=list(cuantitativas.columns), description='Columna:')\n",
        "\n",
        "# Opciones extra\n",
        "show_std = Checkbox(value=False, description='Límites 3σ')\n",
        "show_iqr = Checkbox(value=False, description='Límites IQR')\n",
        "\n",
        "def plot_box(col, show_std_lines, show_iqr_lines):\n",
        "    serie = cuantitativas[col].dropna()\n",
        "    plt.figure(figsize=(12,4))\n",
        "    plt.boxplot(serie, vert=False, showfliers=True)\n",
        "    plt.title(f\"Boxplot: {col}\")\n",
        "    plt.xlabel(col)\n",
        "\n",
        "    if show_std_lines:\n",
        "        mu, sd = serie.mean(), serie.std()\n",
        "        plt.axvline(mu-3*sd, linestyle='--')\n",
        "        plt.axvline(mu, linestyle='-')\n",
        "        plt.axvline(mu+3*sd, linestyle='--')\n",
        "\n",
        "    if show_iqr_lines:\n",
        "        Q1, Q3 = serie.quantile([0.25,0.75])\n",
        "        IQR = Q3 - Q1\n",
        "        plt.axvline(Q1-1.5*IQR, linestyle=':')\n",
        "        plt.axvline(Q1, linestyle='-.')\n",
        "        plt.axvline(Q3, linestyle='-.')\n",
        "        plt.axvline(Q3+1.5*IQR, linestyle=':')\n",
        "\n",
        "    plt.show()\n",
        "    print(\"Resumen estadístico:\\n\", serie.describe())\n",
        "\n",
        "interact(plot_box, col=col_selector, show_std_lines=show_std, show_iqr_lines=show_iqr);\n",
        "\n"
      ],
      "metadata": {
        "colab": {
          "base_uri": "https://localhost:8080/",
          "height": 586,
          "referenced_widgets": [
            "db8174e4d8404abab38bc27e5d9a8438",
            "7f6cfa0a427f46c4819e41c38cbf7586",
            "4938acc271914e4c943d56f3452eb585",
            "e42092feccf34fd1bf12fc144d6218c4",
            "2d1f9e4266254eaf94c932a712a12d9c",
            "92e965447c50401eb1ca7f0137dab02a",
            "e99a902fc7c34f69ba5f2ab5eb812298",
            "1928e624dd9445bfac86a7dd3d8e545a",
            "3eeadab3bd8f4f2c83fe3c17ae59d300",
            "5a41e9c36dc341c2b646a16acecfbd4b",
            "3a23297f1c5c498187df69fa07fbcea9",
            "22d0d69737cd41f0a756c34a77cffc6e",
            "64f89aad709d4cc88e745f0beedb3d36"
          ]
        },
        "id": "LGK9_qKjJuuj",
        "outputId": "6ebffbe7-de34-42bb-cd17-46fab6d90bec"
      },
      "execution_count": 12,
      "outputs": [
        {
          "output_type": "display_data",
          "data": {
            "text/plain": [
              "interactive(children=(Dropdown(description='Columna:', options=('latitude', 'longitude', 'accommodates', 'bath…"
            ],
            "application/vnd.jupyter.widget-view+json": {
              "version_major": 2,
              "version_minor": 0,
              "model_id": "db8174e4d8404abab38bc27e5d9a8438"
            }
          },
          "metadata": {}
        }
      ]
    },
    {
      "cell_type": "code",
      "execution_count": 13,
      "metadata": {
        "id": "-_TULKm0tWBn"
      },
      "outputs": [],
      "source": [
        "\n",
        "# ============================================================\n",
        "# MÉTODO DESVIACIÓN ESTÁNDAR (3σ)\n",
        "# ============================================================\n",
        "y = cuantitativas.copy()\n",
        "mu = y.mean()\n",
        "sd = y.std()\n",
        "lim_sup = mu + 3*sd\n",
        "lim_inf = mu - 3*sd\n",
        "\n",
        "data3 = y.apply(lambda col: col.where((col <= lim_sup[col.name]) & (col >= lim_inf[col.name])))\n",
        "imputados_3s_por_col = (data3.isna().sum() - y.isna().sum()).clip(lower=0)\n",
        "total_imputados_3s = int(imputados_3s_por_col.sum())\n",
        "\n",
        "data_clean_std = data3.fillna(round(data3.mean(), 1))\n",
        "Datos_limpios_STD = pd.concat([cualitativas, data_clean_std], axis=1)\n",
        "Datos_limpios_STD.to_csv(\"Datos_limpios_STD.csv\", index=False)"
      ]
    },
    {
      "cell_type": "code",
      "execution_count": 14,
      "metadata": {
        "id": "_Qg9ufYftfR-"
      },
      "outputs": [],
      "source": [
        "\n",
        "# ============================================================\n",
        "# MÉTODO RANGO INTERCUARTÍLICO (IQR)\n",
        "# ============================================================\n",
        "Q1 = y.quantile(0.25)\n",
        "Q3 = y.quantile(0.75)\n",
        "IQR = Q3 - Q1\n",
        "lim_sup_iqr = Q3 + 1.5*IQR\n",
        "lim_inf_iqr = Q1 - 1.5*IQR\n",
        "\n",
        "data3_iqr = y.apply(lambda col: col.where((col <= lim_sup_iqr[col.name]) & (col >= lim_inf_iqr[col.name])))\n",
        "imputados_iqr_por_col = (data3_iqr.isna().sum() - y.isna().sum()).clip(lower=0)\n",
        "total_imputados_IQR = int(imputados_iqr_por_col.sum())\n",
        "\n",
        "data_clean_iqr = data3_iqr.fillna(round(data3_iqr.mean(), 1))\n",
        "Datos_limpios_IQR = pd.concat([cualitativas, data_clean_iqr], axis=1)\n",
        "Datos_limpios_IQR.to_csv(\"Datos_limpios_IQR.csv\", index=False)"
      ]
    },
    {
      "cell_type": "code",
      "source": [
        "\n",
        "# ============================================================\n",
        "# COMPARATIVO\n",
        "# ============================================================\n",
        "nfilas = y.shape[0]\n",
        "ncols_num = y.shape[1]\n",
        "\n",
        "pct_imp_3s  = (total_imputados_3s  / (nfilas * ncols_num)) * 100\n",
        "pct_imp_iqr = (total_imputados_IQR / (nfilas * ncols_num)) * 100\n",
        "\n",
        "print(\"\\n================= RESUMEN COMPARATIVO =================\")\n",
        "print(f\"Outliers detectados (3σ):  {total_imputados_3s}  | % sobre celdas numéricas: {pct_imp_3s:.3f}%\")\n",
        "print(f\"Outliers detectados (IQR): {total_imputados_IQR} | % sobre celdas numéricas: {pct_imp_iqr:.3f}%\")\n",
        "print(\"Archivos generados: Datos_limpios_STD.csv  y  Datos_limpios_IQR.csv\")\n",
        "print(\"=======================================================\\n\")\n",
        "\n",
        "# Top columnas afectadas\n",
        "print(\"Top 10 columnas más afectadas por 3σ:\\n\", imputados_3s_por_col.sort_values(ascending=False).head(10))\n",
        "print(\"\\nTop 10 columnas más afectadas por IQR:\\n\", imputados_iqr_por_col.sort_values(ascending=False).head(10))\n",
        "\n",
        "# Filas afectadas\n",
        "filas_afectadas_3s  = (data3.isna().any(axis=1)).sum()\n",
        "filas_afectadas_IQR = (data3_iqr.isna().any(axis=1)).sum()\n",
        "print(\"\\nFilas afectadas 3σ:\", filas_afectadas_3s)\n",
        "print(\"Filas afectadas IQR:\", filas_afectadas_IQR)"
      ],
      "metadata": {
        "colab": {
          "base_uri": "https://localhost:8080/"
        },
        "id": "Zrrp7AXRLI1s",
        "outputId": "40c7a842-5630-40dc-caba-5babdbeb3124"
      },
      "execution_count": 15,
      "outputs": [
        {
          "output_type": "stream",
          "name": "stdout",
          "text": [
            "\n",
            "================= RESUMEN COMPARATIVO =================\n",
            "Outliers detectados (3σ):  8032  | % sobre celdas numéricas: 1.175%\n",
            "Outliers detectados (IQR): 42886 | % sobre celdas numéricas: 6.275%\n",
            "Archivos generados: Datos_limpios_STD.csv  y  Datos_limpios_IQR.csv\n",
            "=======================================================\n",
            "\n",
            "Top 10 columnas más afectadas por 3σ:\n",
            " latitude                       703\n",
            "availability_30                645\n",
            "host_acceptance_rate           527\n",
            "review_scores_communication    479\n",
            "accommodates                   474\n",
            "bathrooms                      447\n",
            "number_of_reviews              379\n",
            "review_scores_value            344\n",
            "review_scores_rating           343\n",
            "review_scores_cleanliness      341\n",
            "dtype: int64\n",
            "\n",
            "Top 10 columnas más afectadas por IQR:\n",
            " bathrooms                    4193\n",
            "host_response_rate           3588\n",
            "minimum_nights               3495\n",
            "maximum_nights               2407\n",
            "host_total_listings_count    2098\n",
            "latitude                     2039\n",
            "number_of_reviews            1997\n",
            "host_acceptance_rate         1980\n",
            "host_listings_count          1870\n",
            "estimated_revenue_l365d      1761\n",
            "dtype: int64\n",
            "\n",
            "Filas afectadas 3σ: 4707\n",
            "Filas afectadas IQR: 17464\n"
          ]
        }
      ]
    },
    {
      "cell_type": "code",
      "source": [
        "explicacion = \"\"\"\n",
        "=== Decisión sobre el tratamiento de outliers ===\n",
        "\n",
        "Se compararon dos métodos:\n",
        "\n",
        "1) Desviación Estándar (3σ)\n",
        "   - Detectó 8,032 celdas atípicas (≈1.17% del total numérico).\n",
        "   - Afectó 4,707 filas.\n",
        "   - Identificó principalmente valores extremos en variables continuas\n",
        "     como latitude, availability_30 y métricas de review_scores.\n",
        "   - El impacto es moderado y conserva la mayoría de los datos válidos.\n",
        "\n",
        "2) Rango Intercuartílico (IQR, k=1.5)\n",
        "   - Detectó 42,886 celdas atípicas (≈6.28% del total numérico).\n",
        "   - Afectó 17,464 filas.\n",
        "   - Señaló como outliers valores plausibles en variables discretas o sesgadas\n",
        "     (ej. bathrooms, minimum_nights, maximum_nights).\n",
        "   - Este enfoque resultó demasiado agresivo y podría distorsionar información real.\n",
        "\n",
        "Conclusión:\n",
        "El criterio de 3σ es más adecuado para este dataset, ya que mantiene un balance\n",
        "entre la detección de valores extremos y la conservación de información.\n",
        "Se recomienda usar la base generada con este método (Datos_limpios_STD.csv)\n",
        "como la versión principal para análisis posteriores. La base con IQR (Datos_limpios_IQR.csv)\n",
        "se conserva solo como referencia exploratoria.\n",
        "\"\"\"\n",
        "\n",
        "print(explicacion)\n"
      ],
      "metadata": {
        "colab": {
          "base_uri": "https://localhost:8080/"
        },
        "id": "8PWp5_1GLcKZ",
        "outputId": "ad8b0f4c-8b4d-4726-a3af-c8292d0d5eba"
      },
      "execution_count": 16,
      "outputs": [
        {
          "output_type": "stream",
          "name": "stdout",
          "text": [
            "\n",
            "=== Decisión sobre el tratamiento de outliers ===\n",
            "\n",
            "Se compararon dos métodos:\n",
            "\n",
            "1) Desviación Estándar (3σ)\n",
            "   - Detectó 8,032 celdas atípicas (≈1.17% del total numérico).\n",
            "   - Afectó 4,707 filas.\n",
            "   - Identificó principalmente valores extremos en variables continuas\n",
            "     como latitude, availability_30 y métricas de review_scores.\n",
            "   - El impacto es moderado y conserva la mayoría de los datos válidos.\n",
            "\n",
            "2) Rango Intercuartílico (IQR, k=1.5)\n",
            "   - Detectó 42,886 celdas atípicas (≈6.28% del total numérico).\n",
            "   - Afectó 17,464 filas.\n",
            "   - Señaló como outliers valores plausibles en variables discretas o sesgadas\n",
            "     (ej. bathrooms, minimum_nights, maximum_nights).\n",
            "   - Este enfoque resultó demasiado agresivo y podría distorsionar información real.\n",
            "\n",
            "Conclusión:\n",
            "El criterio de 3σ es más adecuado para este dataset, ya que mantiene un balance\n",
            "entre la detección de valores extremos y la conservación de información.\n",
            "Se recomienda usar la base generada con este método (Datos_limpios_STD.csv)\n",
            "como la versión principal para análisis posteriores. La base con IQR (Datos_limpios_IQR.csv)\n",
            "se conserva solo como referencia exploratoria.\n",
            "\n"
          ]
        }
      ]
    }
  ],
  "metadata": {
    "colab": {
      "provenance": []
    },
    "kernelspec": {
      "display_name": "Python 3",
      "name": "python3"
    },
    "language_info": {
      "codemirror_mode": {
        "name": "ipython",
        "version": 3
      },
      "file_extension": ".py",
      "mimetype": "text/x-python",
      "name": "python",
      "nbconvert_exporter": "python",
      "pygments_lexer": "ipython3",
      "version": "3.13.1"
    },
    "widgets": {
      "application/vnd.jupyter.widget-state+json": {
        "db8174e4d8404abab38bc27e5d9a8438": {
          "model_module": "@jupyter-widgets/controls",
          "model_name": "VBoxModel",
          "model_module_version": "1.5.0",
          "state": {
            "_dom_classes": [
              "widget-interact"
            ],
            "_model_module": "@jupyter-widgets/controls",
            "_model_module_version": "1.5.0",
            "_model_name": "VBoxModel",
            "_view_count": null,
            "_view_module": "@jupyter-widgets/controls",
            "_view_module_version": "1.5.0",
            "_view_name": "VBoxView",
            "box_style": "",
            "children": [
              "IPY_MODEL_7f6cfa0a427f46c4819e41c38cbf7586",
              "IPY_MODEL_4938acc271914e4c943d56f3452eb585",
              "IPY_MODEL_e42092feccf34fd1bf12fc144d6218c4",
              "IPY_MODEL_2d1f9e4266254eaf94c932a712a12d9c"
            ],
            "layout": "IPY_MODEL_92e965447c50401eb1ca7f0137dab02a"
          }
        },
        "7f6cfa0a427f46c4819e41c38cbf7586": {
          "model_module": "@jupyter-widgets/controls",
          "model_name": "DropdownModel",
          "model_module_version": "1.5.0",
          "state": {
            "_dom_classes": [],
            "_model_module": "@jupyter-widgets/controls",
            "_model_module_version": "1.5.0",
            "_model_name": "DropdownModel",
            "_options_labels": [
              "latitude",
              "longitude",
              "accommodates",
              "bathrooms",
              "bedrooms",
              "beds",
              "price",
              "minimum_nights",
              "maximum_nights",
              "availability_30",
              "availability_60",
              "availability_90",
              "availability_365",
              "number_of_reviews",
              "number_of_reviews_ltm",
              "number_of_reviews_l30d",
              "review_scores_rating",
              "review_scores_accuracy",
              "review_scores_cleanliness",
              "review_scores_checkin",
              "review_scores_communication",
              "review_scores_location",
              "review_scores_value",
              "reviews_per_month",
              "host_response_rate",
              "host_acceptance_rate",
              "host_listings_count",
              "host_total_listings_count",
              "estimated_occupancy_l365d",
              "estimated_revenue_l365d"
            ],
            "_view_count": null,
            "_view_module": "@jupyter-widgets/controls",
            "_view_module_version": "1.5.0",
            "_view_name": "DropdownView",
            "description": "Columna:",
            "description_tooltip": null,
            "disabled": false,
            "index": 9,
            "layout": "IPY_MODEL_e99a902fc7c34f69ba5f2ab5eb812298",
            "style": "IPY_MODEL_1928e624dd9445bfac86a7dd3d8e545a"
          }
        },
        "4938acc271914e4c943d56f3452eb585": {
          "model_module": "@jupyter-widgets/controls",
          "model_name": "CheckboxModel",
          "model_module_version": "1.5.0",
          "state": {
            "_dom_classes": [],
            "_model_module": "@jupyter-widgets/controls",
            "_model_module_version": "1.5.0",
            "_model_name": "CheckboxModel",
            "_view_count": null,
            "_view_module": "@jupyter-widgets/controls",
            "_view_module_version": "1.5.0",
            "_view_name": "CheckboxView",
            "description": "Límites 3σ",
            "description_tooltip": null,
            "disabled": false,
            "indent": true,
            "layout": "IPY_MODEL_3eeadab3bd8f4f2c83fe3c17ae59d300",
            "style": "IPY_MODEL_5a41e9c36dc341c2b646a16acecfbd4b",
            "value": false
          }
        },
        "e42092feccf34fd1bf12fc144d6218c4": {
          "model_module": "@jupyter-widgets/controls",
          "model_name": "CheckboxModel",
          "model_module_version": "1.5.0",
          "state": {
            "_dom_classes": [],
            "_model_module": "@jupyter-widgets/controls",
            "_model_module_version": "1.5.0",
            "_model_name": "CheckboxModel",
            "_view_count": null,
            "_view_module": "@jupyter-widgets/controls",
            "_view_module_version": "1.5.0",
            "_view_name": "CheckboxView",
            "description": "Límites IQR",
            "description_tooltip": null,
            "disabled": false,
            "indent": true,
            "layout": "IPY_MODEL_3a23297f1c5c498187df69fa07fbcea9",
            "style": "IPY_MODEL_22d0d69737cd41f0a756c34a77cffc6e",
            "value": false
          }
        },
        "2d1f9e4266254eaf94c932a712a12d9c": {
          "model_module": "@jupyter-widgets/output",
          "model_name": "OutputModel",
          "model_module_version": "1.0.0",
          "state": {
            "_dom_classes": [],
            "_model_module": "@jupyter-widgets/output",
            "_model_module_version": "1.0.0",
            "_model_name": "OutputModel",
            "_view_count": null,
            "_view_module": "@jupyter-widgets/output",
            "_view_module_version": "1.0.0",
            "_view_name": "OutputView",
            "layout": "IPY_MODEL_64f89aad709d4cc88e745f0beedb3d36",
            "msg_id": "",
            "outputs": [
              {
                "output_type": "display_data",
                "data": {
                  "text/plain": "<Figure size 1200x400 with 1 Axes>",
                  "image/png": "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\n"
                },
                "metadata": {}
              },
              {
                "output_type": "stream",
                "name": "stdout",
                "text": [
                  "Resumen estadístico:\n",
                  " count    22783.000000\n",
                  "mean         4.166923\n",
                  "std          5.430757\n",
                  "min          0.000000\n",
                  "25%          0.000000\n",
                  "50%          2.000000\n",
                  "75%          6.000000\n",
                  "max         30.000000\n",
                  "Name: availability_30, dtype: float64\n"
                ]
              }
            ]
          }
        },
        "92e965447c50401eb1ca7f0137dab02a": {
          "model_module": "@jupyter-widgets/base",
          "model_name": "LayoutModel",
          "model_module_version": "1.2.0",
          "state": {
            "_model_module": "@jupyter-widgets/base",
            "_model_module_version": "1.2.0",
            "_model_name": "LayoutModel",
            "_view_count": null,
            "_view_module": "@jupyter-widgets/base",
            "_view_module_version": "1.2.0",
            "_view_name": "LayoutView",
            "align_content": null,
            "align_items": null,
            "align_self": null,
            "border": null,
            "bottom": null,
            "display": null,
            "flex": null,
            "flex_flow": null,
            "grid_area": null,
            "grid_auto_columns": null,
            "grid_auto_flow": null,
            "grid_auto_rows": null,
            "grid_column": null,
            "grid_gap": null,
            "grid_row": null,
            "grid_template_areas": null,
            "grid_template_columns": null,
            "grid_template_rows": null,
            "height": null,
            "justify_content": null,
            "justify_items": null,
            "left": null,
            "margin": null,
            "max_height": null,
            "max_width": null,
            "min_height": null,
            "min_width": null,
            "object_fit": null,
            "object_position": null,
            "order": null,
            "overflow": null,
            "overflow_x": null,
            "overflow_y": null,
            "padding": null,
            "right": null,
            "top": null,
            "visibility": null,
            "width": null
          }
        },
        "e99a902fc7c34f69ba5f2ab5eb812298": {
          "model_module": "@jupyter-widgets/base",
          "model_name": "LayoutModel",
          "model_module_version": "1.2.0",
          "state": {
            "_model_module": "@jupyter-widgets/base",
            "_model_module_version": "1.2.0",
            "_model_name": "LayoutModel",
            "_view_count": null,
            "_view_module": "@jupyter-widgets/base",
            "_view_module_version": "1.2.0",
            "_view_name": "LayoutView",
            "align_content": null,
            "align_items": null,
            "align_self": null,
            "border": null,
            "bottom": null,
            "display": null,
            "flex": null,
            "flex_flow": null,
            "grid_area": null,
            "grid_auto_columns": null,
            "grid_auto_flow": null,
            "grid_auto_rows": null,
            "grid_column": null,
            "grid_gap": null,
            "grid_row": null,
            "grid_template_areas": null,
            "grid_template_columns": null,
            "grid_template_rows": null,
            "height": null,
            "justify_content": null,
            "justify_items": null,
            "left": null,
            "margin": null,
            "max_height": null,
            "max_width": null,
            "min_height": null,
            "min_width": null,
            "object_fit": null,
            "object_position": null,
            "order": null,
            "overflow": null,
            "overflow_x": null,
            "overflow_y": null,
            "padding": null,
            "right": null,
            "top": null,
            "visibility": null,
            "width": null
          }
        },
        "1928e624dd9445bfac86a7dd3d8e545a": {
          "model_module": "@jupyter-widgets/controls",
          "model_name": "DescriptionStyleModel",
          "model_module_version": "1.5.0",
          "state": {
            "_model_module": "@jupyter-widgets/controls",
            "_model_module_version": "1.5.0",
            "_model_name": "DescriptionStyleModel",
            "_view_count": null,
            "_view_module": "@jupyter-widgets/base",
            "_view_module_version": "1.2.0",
            "_view_name": "StyleView",
            "description_width": ""
          }
        },
        "3eeadab3bd8f4f2c83fe3c17ae59d300": {
          "model_module": "@jupyter-widgets/base",
          "model_name": "LayoutModel",
          "model_module_version": "1.2.0",
          "state": {
            "_model_module": "@jupyter-widgets/base",
            "_model_module_version": "1.2.0",
            "_model_name": "LayoutModel",
            "_view_count": null,
            "_view_module": "@jupyter-widgets/base",
            "_view_module_version": "1.2.0",
            "_view_name": "LayoutView",
            "align_content": null,
            "align_items": null,
            "align_self": null,
            "border": null,
            "bottom": null,
            "display": null,
            "flex": null,
            "flex_flow": null,
            "grid_area": null,
            "grid_auto_columns": null,
            "grid_auto_flow": null,
            "grid_auto_rows": null,
            "grid_column": null,
            "grid_gap": null,
            "grid_row": null,
            "grid_template_areas": null,
            "grid_template_columns": null,
            "grid_template_rows": null,
            "height": null,
            "justify_content": null,
            "justify_items": null,
            "left": null,
            "margin": null,
            "max_height": null,
            "max_width": null,
            "min_height": null,
            "min_width": null,
            "object_fit": null,
            "object_position": null,
            "order": null,
            "overflow": null,
            "overflow_x": null,
            "overflow_y": null,
            "padding": null,
            "right": null,
            "top": null,
            "visibility": null,
            "width": null
          }
        },
        "5a41e9c36dc341c2b646a16acecfbd4b": {
          "model_module": "@jupyter-widgets/controls",
          "model_name": "DescriptionStyleModel",
          "model_module_version": "1.5.0",
          "state": {
            "_model_module": "@jupyter-widgets/controls",
            "_model_module_version": "1.5.0",
            "_model_name": "DescriptionStyleModel",
            "_view_count": null,
            "_view_module": "@jupyter-widgets/base",
            "_view_module_version": "1.2.0",
            "_view_name": "StyleView",
            "description_width": ""
          }
        },
        "3a23297f1c5c498187df69fa07fbcea9": {
          "model_module": "@jupyter-widgets/base",
          "model_name": "LayoutModel",
          "model_module_version": "1.2.0",
          "state": {
            "_model_module": "@jupyter-widgets/base",
            "_model_module_version": "1.2.0",
            "_model_name": "LayoutModel",
            "_view_count": null,
            "_view_module": "@jupyter-widgets/base",
            "_view_module_version": "1.2.0",
            "_view_name": "LayoutView",
            "align_content": null,
            "align_items": null,
            "align_self": null,
            "border": null,
            "bottom": null,
            "display": null,
            "flex": null,
            "flex_flow": null,
            "grid_area": null,
            "grid_auto_columns": null,
            "grid_auto_flow": null,
            "grid_auto_rows": null,
            "grid_column": null,
            "grid_gap": null,
            "grid_row": null,
            "grid_template_areas": null,
            "grid_template_columns": null,
            "grid_template_rows": null,
            "height": null,
            "justify_content": null,
            "justify_items": null,
            "left": null,
            "margin": null,
            "max_height": null,
            "max_width": null,
            "min_height": null,
            "min_width": null,
            "object_fit": null,
            "object_position": null,
            "order": null,
            "overflow": null,
            "overflow_x": null,
            "overflow_y": null,
            "padding": null,
            "right": null,
            "top": null,
            "visibility": null,
            "width": null
          }
        },
        "22d0d69737cd41f0a756c34a77cffc6e": {
          "model_module": "@jupyter-widgets/controls",
          "model_name": "DescriptionStyleModel",
          "model_module_version": "1.5.0",
          "state": {
            "_model_module": "@jupyter-widgets/controls",
            "_model_module_version": "1.5.0",
            "_model_name": "DescriptionStyleModel",
            "_view_count": null,
            "_view_module": "@jupyter-widgets/base",
            "_view_module_version": "1.2.0",
            "_view_name": "StyleView",
            "description_width": ""
          }
        },
        "64f89aad709d4cc88e745f0beedb3d36": {
          "model_module": "@jupyter-widgets/base",
          "model_name": "LayoutModel",
          "model_module_version": "1.2.0",
          "state": {
            "_model_module": "@jupyter-widgets/base",
            "_model_module_version": "1.2.0",
            "_model_name": "LayoutModel",
            "_view_count": null,
            "_view_module": "@jupyter-widgets/base",
            "_view_module_version": "1.2.0",
            "_view_name": "LayoutView",
            "align_content": null,
            "align_items": null,
            "align_self": null,
            "border": null,
            "bottom": null,
            "display": null,
            "flex": null,
            "flex_flow": null,
            "grid_area": null,
            "grid_auto_columns": null,
            "grid_auto_flow": null,
            "grid_auto_rows": null,
            "grid_column": null,
            "grid_gap": null,
            "grid_row": null,
            "grid_template_areas": null,
            "grid_template_columns": null,
            "grid_template_rows": null,
            "height": null,
            "justify_content": null,
            "justify_items": null,
            "left": null,
            "margin": null,
            "max_height": null,
            "max_width": null,
            "min_height": null,
            "min_width": null,
            "object_fit": null,
            "object_position": null,
            "order": null,
            "overflow": null,
            "overflow_x": null,
            "overflow_y": null,
            "padding": null,
            "right": null,
            "top": null,
            "visibility": null,
            "width": null
          }
        }
      }
    }
  },
  "nbformat": 4,
  "nbformat_minor": 0
}